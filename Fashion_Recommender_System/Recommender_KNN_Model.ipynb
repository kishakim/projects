{
 "cells": [
  {
   "cell_type": "markdown",
   "metadata": {},
   "source": [
    "# KNN Model"
   ]
  },
  {
   "cell_type": "markdown",
   "metadata": {},
   "source": [
    "### Import Needed Packages"
   ]
  },
  {
   "cell_type": "code",
   "execution_count": 18,
   "metadata": {},
   "outputs": [],
   "source": [
    "# General\n",
    "import random\n",
    "import os\n",
    "import numpy as np\n",
    "import pandas as pd\n",
    "# import pandas_profiling\n",
    "\n",
    "# warning\n",
    "import warnings\n",
    "warnings.filterwarnings(\"ignore\")\n",
    "\n",
    "# display, plots\n",
    "from IPython.display import display_html\n",
    "import matplotlib.pyplot as plt\n",
    "from matplotlib.gridspec import GridSpec\n",
    "import seaborn as sns\n",
    "import plotly.express as px\n",
    "\n",
    "\n",
    "#knn systems \n",
    "from sklearn.neighbors import KNeighborsClassifier\n",
    "from sklearn.metrics import precision_score, recall_score,roc_auc_score"
   ]
  },
  {
   "cell_type": "markdown",
   "metadata": {},
   "source": [
    "### Load Data info Dataframes"
   ]
  },
  {
   "cell_type": "code",
   "execution_count": 19,
   "metadata": {},
   "outputs": [],
   "source": [
    "articles = pd.read_csv('articles.csv')\n",
    "customers = pd.read_csv('customers.csv')\n",
    "transactions = pd.read_csv('transactions_2019_interaction.csv')"
   ]
  },
  {
   "cell_type": "code",
   "execution_count": 20,
   "metadata": {},
   "outputs": [
    {
     "name": "stdout",
     "output_type": "stream",
     "text": [
      "Size of articles metadata (105542, 25)\n",
      "Size of user-articles transactions training data (14089417, 3)\n"
     ]
    }
   ],
   "source": [
    "print('Size of articles metadata', articles.shape)\n",
    "# print('Size of customers metadata data', customers.shape)\n",
    "print('Size of user-articles transactions training data', transactions.shape)"
   ]
  },
  {
   "cell_type": "markdown",
   "metadata": {},
   "source": [
    "### Randomly Select Customers for Training"
   ]
  },
  {
   "cell_type": "code",
   "execution_count": 21,
   "metadata": {},
   "outputs": [],
   "source": [
    "# randomly select x customers for training data\n",
    "rand_cust = random.sample(list(transactions['customer_id'].unique()), k=100000)\n",
    "transactions = transactions[transactions['customer_id'].isin(\n",
    "               rand_cust)]"
   ]
  },
  {
   "cell_type": "markdown",
   "metadata": {},
   "source": [
    "### Merge Transaction and Article Data"
   ]
  },
  {
   "cell_type": "code",
   "execution_count": 22,
   "metadata": {},
   "outputs": [],
   "source": [
    "#Merged transaction and article data\n",
    "transactions_w_articles = pd.merge(transactions, articles, on=['article_id'], how='left')"
   ]
  },
  {
   "cell_type": "markdown",
   "metadata": {},
   "source": [
    "### Model 1 - Cust ID, Article ID and Cust Art Int"
   ]
  },
  {
   "cell_type": "code",
   "execution_count": 23,
   "metadata": {},
   "outputs": [],
   "source": [
    "#narrow down \n",
    "transactions_w_articles_a = transactions_w_articles[['customer_id','article_id','cust_art_int']]\n",
    "\n",
    "#model fails using customer id that is alphanumeric.. so converting customer ids to UUID for unique ids\n",
    "import uuid\n",
    "original_ids = transactions_w_articles_a['customer_id'].unique()\n",
    "new_ids = {cid: uuid.uuid4().int for cid in original_ids}\n",
    "transactions_w_articles_a['customer_id'] = transactions_w_articles_a['customer_id'].map(new_ids)\n",
    "\n",
    "x = transactions_w_articles_a[['customer_id','cust_art_int']]\n",
    "\n",
    "y = transactions_w_articles_a['article_id']"
   ]
  },
  {
   "cell_type": "code",
   "execution_count": 25,
   "metadata": {},
   "outputs": [],
   "source": [
    "knn = KNeighborsClassifier(n_neighbors=12,metric='minkowski')"
   ]
  },
  {
   "cell_type": "code",
   "execution_count": 26,
   "metadata": {},
   "outputs": [
    {
     "data": {
      "text/plain": [
       "KNeighborsClassifier(n_neighbors=12)"
      ]
     },
     "execution_count": 26,
     "metadata": {},
     "output_type": "execute_result"
    }
   ],
   "source": [
    "knn.fit(x[:1000000], y[:1000000])"
   ]
  },
  {
   "cell_type": "code",
   "execution_count": 27,
   "metadata": {},
   "outputs": [],
   "source": [
    "#Compute accuracy on the training set\n",
    "train_accuracy = knn.score(x[:1000000], y[:1000000])\n",
    "    \n",
    "#Compute accuracy on the test set\n",
    "test_accuracy = knn.score(x[1000000:], y[1000000:]) "
   ]
  },
  {
   "cell_type": "code",
   "execution_count": 28,
   "metadata": {},
   "outputs": [
    {
     "name": "stdout",
     "output_type": "stream",
     "text": [
      "0.0472\n"
     ]
    }
   ],
   "source": [
    "print(train_accuracy)"
   ]
  },
  {
   "cell_type": "code",
   "execution_count": 29,
   "metadata": {},
   "outputs": [
    {
     "name": "stdout",
     "output_type": "stream",
     "text": [
      "0.0001604461759574795\n"
     ]
    }
   ],
   "source": [
    "print(test_accuracy)"
   ]
  },
  {
   "cell_type": "code",
   "execution_count": 30,
   "metadata": {},
   "outputs": [],
   "source": [
    "y_pred = knn.predict(x[1000000:])"
   ]
  },
  {
   "cell_type": "code",
   "execution_count": 32,
   "metadata": {},
   "outputs": [
    {
     "data": {
      "text/plain": [
       "1.4248251570878094e-05"
      ]
     },
     "execution_count": 32,
     "metadata": {},
     "output_type": "execute_result"
    }
   ],
   "source": [
    "precision_score(y[1000000:],y_pred, average= 'macro')"
   ]
  },
  {
   "cell_type": "code",
   "execution_count": 33,
   "metadata": {},
   "outputs": [
    {
     "data": {
      "text/plain": [
       "2.1148547330737304e-05"
      ]
     },
     "execution_count": 33,
     "metadata": {},
     "output_type": "execute_result"
    }
   ],
   "source": [
    "recall_score(y[1000000:],y_pred, average= 'macro')"
   ]
  },
  {
   "cell_type": "markdown",
   "metadata": {},
   "source": [
    "### Model 2 - Cust ID, Article ID, Cust Art Int and Product Type"
   ]
  },
  {
   "cell_type": "code",
   "execution_count": 37,
   "metadata": {},
   "outputs": [],
   "source": [
    "transactions_w_articles_b = transactions_w_articles[['customer_id','article_id','cust_art_int','product_type_no']]\n",
    "\n",
    "#model fails using customer id that is alphanumeric.. so converting customer ids to UUID for unique ids\n",
    "import uuid\n",
    "original_ids = transactions_w_articles_b['customer_id'].unique()\n",
    "new_ids = {cid: uuid.uuid4().int for cid in original_ids}\n",
    "transactions_w_articles_b['customer_id'] = transactions_w_articles_b['customer_id'].map(new_ids)\n",
    "\n",
    "x = transactions_w_articles_b[['customer_id','cust_art_int','product_type_no']]\n",
    "\n",
    "y = transactions_w_articles_b['article_id']"
   ]
  },
  {
   "cell_type": "code",
   "execution_count": 38,
   "metadata": {},
   "outputs": [
    {
     "data": {
      "text/plain": [
       "KNeighborsClassifier(n_neighbors=12)"
      ]
     },
     "execution_count": 38,
     "metadata": {},
     "output_type": "execute_result"
    }
   ],
   "source": [
    "knn.fit(x[:1000000], y[:1000000])"
   ]
  },
  {
   "cell_type": "code",
   "execution_count": 39,
   "metadata": {},
   "outputs": [],
   "source": [
    "    #Compute accuracy on the training set\n",
    "train_accuracy = knn.score(x[:1000000], y[:1000000])\n",
    "    \n",
    "    #Compute accuracy on the test set\n",
    "test_accuracy = knn.score(x[1000000:], y[1000000:]) "
   ]
  },
  {
   "cell_type": "code",
   "execution_count": 40,
   "metadata": {},
   "outputs": [
    {
     "name": "stdout",
     "output_type": "stream",
     "text": [
      "0.083503\n"
     ]
    }
   ],
   "source": [
    "print(train_accuracy)"
   ]
  },
  {
   "cell_type": "code",
   "execution_count": 41,
   "metadata": {},
   "outputs": [
    {
     "name": "stdout",
     "output_type": "stream",
     "text": [
      "0.00018304422890923718\n"
     ]
    }
   ],
   "source": [
    "print(test_accuracy)"
   ]
  },
  {
   "cell_type": "code",
   "execution_count": 42,
   "metadata": {},
   "outputs": [],
   "source": [
    "y_pred = knn.predict(x[1000000:])"
   ]
  },
  {
   "cell_type": "code",
   "execution_count": 43,
   "metadata": {},
   "outputs": [
    {
     "data": {
      "text/plain": [
       "5.809471472582997e-06"
      ]
     },
     "execution_count": 43,
     "metadata": {},
     "output_type": "execute_result"
    }
   ],
   "source": [
    "precision_score(y[1000000:],y_pred, average= 'macro')"
   ]
  },
  {
   "cell_type": "code",
   "execution_count": 44,
   "metadata": {},
   "outputs": [
    {
     "data": {
      "text/plain": [
       "2.4563481952458243e-05"
      ]
     },
     "execution_count": 44,
     "metadata": {},
     "output_type": "execute_result"
    }
   ],
   "source": [
    "recall_score(y[1000000:],y_pred, average= 'macro')"
   ]
  }
 ],
 "metadata": {
  "interpreter": {
   "hash": "1c790d222ee2ff8c1f969baa11e9becb510139daa5f3b0d8dfffc9a1768b01f9"
  },
  "kernelspec": {
   "display_name": "Python 3.8.13 ('base')",
   "language": "python",
   "name": "python3"
  },
  "language_info": {
   "codemirror_mode": {
    "name": "ipython",
    "version": 3
   },
   "file_extension": ".py",
   "mimetype": "text/x-python",
   "name": "python",
   "nbconvert_exporter": "python",
   "pygments_lexer": "ipython3",
   "version": "3.8.13"
  },
  "orig_nbformat": 4
 },
 "nbformat": 4,
 "nbformat_minor": 2
}
